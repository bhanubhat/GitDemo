{
 "cells": [
  {
   "cell_type": "markdown",
   "id": "quarterly-patio",
   "metadata": {},
   "source": [
    "Write a Python program which accepts the radius of a circle from the user and compute the area"
   ]
  },
  {
   "cell_type": "code",
   "execution_count": null,
   "id": "premier-dining",
   "metadata": {},
   "outputs": [],
   "source": []
  },
  {
   "cell_type": "markdown",
   "id": "accepting-arrival",
   "metadata": {},
   "source": [
    "Write a Python program to accept a filename from the user and print the extension of that"
   ]
  },
  {
   "cell_type": "code",
   "execution_count": null,
   "id": "responsible-freedom",
   "metadata": {},
   "outputs": [],
   "source": []
  },
  {
   "cell_type": "markdown",
   "id": "actual-playback",
   "metadata": {},
   "source": [
    "Write a Python program that accepts an integer (n) and computes the value of n+nn+nnn. Go to the editor\n",
    "Sample value of n is 5\n",
    "Expected Result : 615"
   ]
  },
  {
   "cell_type": "code",
   "execution_count": null,
   "id": "saved-domain",
   "metadata": {},
   "outputs": [],
   "source": []
  },
  {
   "cell_type": "markdown",
   "id": "attended-sport",
   "metadata": {},
   "source": [
    "Write a Python program to concatenate all elements in a list into a string and return it"
   ]
  },
  {
   "cell_type": "code",
   "execution_count": null,
   "id": "insured-database",
   "metadata": {},
   "outputs": [],
   "source": []
  },
  {
   "cell_type": "markdown",
   "id": "joint-trust",
   "metadata": {},
   "source": [
    "Write a Python program to compute the greatest common divisor (GCD) of two positive integers"
   ]
  },
  {
   "cell_type": "code",
   "execution_count": null,
   "id": "certain-ethics",
   "metadata": {},
   "outputs": [],
   "source": []
  },
  {
   "cell_type": "markdown",
   "id": "blessed-skiing",
   "metadata": {},
   "source": [
    "Write a Python program to compute the distance between the points (x1, y1) and (x2, y2)"
   ]
  },
  {
   "cell_type": "code",
   "execution_count": null,
   "id": "civilian-resource",
   "metadata": {},
   "outputs": [],
   "source": []
  },
  {
   "cell_type": "markdown",
   "id": "driving-charm",
   "metadata": {},
   "source": [
    "Write a Python program to count the number of characters (character frequency) in a string. \n",
    "\n",
    "Sample String : google.com'\n",
    "\n",
    "Expected Result : {'g': 2, 'o': 3, 'l': 1, 'e': 1, '.': 1, 'c': 1, 'm': 1}"
   ]
  },
  {
   "cell_type": "code",
   "execution_count": null,
   "id": "civic-morocco",
   "metadata": {},
   "outputs": [],
   "source": []
  },
  {
   "cell_type": "markdown",
   "id": "harmful-farmer",
   "metadata": {},
   "source": [
    "Write a Python function that takes a list of words and returns the longest word and the length of the longest one"
   ]
  },
  {
   "cell_type": "code",
   "execution_count": null,
   "id": "retained-flight",
   "metadata": {},
   "outputs": [],
   "source": []
  },
  {
   "cell_type": "markdown",
   "id": "organized-crossing",
   "metadata": {},
   "source": [
    "Write a Python program to find the second smallest number in a list"
   ]
  },
  {
   "cell_type": "code",
   "execution_count": null,
   "id": "manufactured-queens",
   "metadata": {},
   "outputs": [],
   "source": []
  },
  {
   "cell_type": "markdown",
   "id": "understood-easter",
   "metadata": {},
   "source": [
    " Write a Python program to find common items from two lists"
   ]
  },
  {
   "cell_type": "code",
   "execution_count": null,
   "id": "chicken-melbourne",
   "metadata": {},
   "outputs": [],
   "source": []
  },
  {
   "cell_type": "markdown",
   "id": "asian-patrick",
   "metadata": {},
   "source": [
    "Use list comprehension to create a list of odd numbers between 1 t0 100"
   ]
  },
  {
   "cell_type": "code",
   "execution_count": null,
   "id": "worst-yugoslavia",
   "metadata": {},
   "outputs": [],
   "source": []
  },
  {
   "cell_type": "markdown",
   "id": "dramatic-regular",
   "metadata": {},
   "source": [
    "Print common items in two sets."
   ]
  },
  {
   "cell_type": "code",
   "execution_count": null,
   "id": "descending-typing",
   "metadata": {},
   "outputs": [],
   "source": []
  },
  {
   "cell_type": "markdown",
   "id": "featured-practice",
   "metadata": {},
   "source": [
    "Create a function to which calculates mean for given list"
   ]
  },
  {
   "cell_type": "code",
   "execution_count": null,
   "id": "great-invention",
   "metadata": {},
   "outputs": [],
   "source": []
  },
  {
   "cell_type": "markdown",
   "id": "instructional-hudson",
   "metadata": {},
   "source": [
    "create dictionary with 10 key value pairs, key is a number and value is its square"
   ]
  },
  {
   "cell_type": "code",
   "execution_count": null,
   "id": "subsequent-program",
   "metadata": {},
   "outputs": [],
   "source": []
  },
  {
   "cell_type": "markdown",
   "id": "welcome-homework",
   "metadata": {},
   "source": [
    "Write a function that takes string input from the user, and print alternate characters"
   ]
  },
  {
   "cell_type": "code",
   "execution_count": null,
   "id": "knowing-oxygen",
   "metadata": {},
   "outputs": [],
   "source": []
  }
 ],
 "metadata": {
  "kernelspec": {
   "display_name": "Python 3",
   "language": "python",
   "name": "python3"
  },
  "language_info": {
   "codemirror_mode": {
    "name": "ipython",
    "version": 3
   },
   "file_extension": ".py",
   "mimetype": "text/x-python",
   "name": "python",
   "nbconvert_exporter": "python",
   "pygments_lexer": "ipython3",
   "version": "3.8.8"
  }
 },
 "nbformat": 4,
 "nbformat_minor": 5
}
